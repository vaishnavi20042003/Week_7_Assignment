{
 "cells": [
  {
   "cell_type": "code",
   "execution_count": 1,
   "id": "30299c27",
   "metadata": {},
   "outputs": [
    {
     "name": "stdout",
     "output_type": "stream",
     "text": [
      "Collecting pandas\n",
      "  Downloading pandas-2.3.0-cp312-cp312-manylinux_2_17_x86_64.manylinux2014_x86_64.whl.metadata (91 kB)\n",
      "\u001b[2K     \u001b[38;2;114;156;31m━━━━━━━━━━━━━━━━━━━━━━━━━━━━━━━━━━━━━━━\u001b[0m \u001b[32m91.2/91.2 kB\u001b[0m \u001b[31m150.9 kB/s\u001b[0m eta \u001b[36m0:00:00\u001b[0m kB/s\u001b[0m eta \u001b[36m0:00:01\u001b[0m:01\u001b[0m\n",
      "\u001b[?25hCollecting numpy\n",
      "  Downloading numpy-2.3.1-cp312-cp312-manylinux_2_28_x86_64.whl.metadata (62 kB)\n",
      "\u001b[2K     \u001b[38;2;114;156;31m━━━━━━━━━━━━━━━━━━━━━━━━━━━━━━━━━━━━━━━\u001b[0m \u001b[32m62.1/62.1 kB\u001b[0m \u001b[31m380.6 kB/s\u001b[0m eta \u001b[36m0:00:00\u001b[0m31m?\u001b[0m eta \u001b[36m-:--:--\u001b[0m\n",
      "\u001b[?25hCollecting faker\n",
      "  Downloading faker-37.4.0-py3-none-any.whl.metadata (15 kB)\n",
      "Requirement already satisfied: python-dateutil>=2.8.2 in /home/dexter/.pyenv/versions/3.12.3/lib/python3.12/site-packages (from pandas) (2.9.0.post0)\n",
      "Collecting pytz>=2020.1 (from pandas)\n",
      "  Using cached pytz-2025.2-py2.py3-none-any.whl.metadata (22 kB)\n",
      "Collecting tzdata>=2022.7 (from pandas)\n",
      "  Using cached tzdata-2025.2-py2.py3-none-any.whl.metadata (1.4 kB)\n",
      "Requirement already satisfied: six>=1.5 in /home/dexter/.pyenv/versions/3.12.3/lib/python3.12/site-packages (from python-dateutil>=2.8.2->pandas) (1.17.0)\n",
      "Downloading pandas-2.3.0-cp312-cp312-manylinux_2_17_x86_64.manylinux2014_x86_64.whl (12.0 MB)\n",
      "\u001b[2K   \u001b[38;2;114;156;31m━━━━━━━━━━━━━━━━━━━━━━━━━━━━━━━━━━━━━━━━\u001b[0m \u001b[32m12.0/12.0 MB\u001b[0m \u001b[31m482.9 kB/s\u001b[0m eta \u001b[36m0:00:00\u001b[0mm eta \u001b[36m0:00:01\u001b[0m[36m0:00:01\u001b[0m\n",
      "\u001b[?25hDownloading numpy-2.3.1-cp312-cp312-manylinux_2_28_x86_64.whl (16.6 MB)\n",
      "\u001b[2K   \u001b[38;2;114;156;31m━━━━━━━━━━━━━━━━━━━━━━━━━━━━━━━━━━━━━━━━\u001b[0m \u001b[32m16.6/16.6 MB\u001b[0m \u001b[31m649.5 kB/s\u001b[0m eta \u001b[36m0:00:00\u001b[0mm eta \u001b[36m0:00:01\u001b[0m[36m0:00:01\u001b[0m\n",
      "\u001b[?25hDownloading faker-37.4.0-py3-none-any.whl (1.9 MB)\n",
      "\u001b[2K   \u001b[38;2;114;156;31m━━━━━━━━━━━━━━━━━━━━━━━━━━━━━━━━━━━━━━━━\u001b[0m \u001b[32m1.9/1.9 MB\u001b[0m \u001b[31m726.1 kB/s\u001b[0m eta \u001b[36m0:00:00\u001b[0mm eta \u001b[36m0:00:01\u001b[0m[36m0:00:01\u001b[0m\n",
      "\u001b[?25hUsing cached pytz-2025.2-py2.py3-none-any.whl (509 kB)\n",
      "Using cached tzdata-2025.2-py2.py3-none-any.whl (347 kB)\n",
      "Installing collected packages: pytz, tzdata, numpy, pandas, faker\n",
      "Successfully installed faker-37.4.0 numpy-2.3.1 pandas-2.3.0 pytz-2025.2 tzdata-2025.2\n",
      "\n",
      "\u001b[1m[\u001b[0m\u001b[34;49mnotice\u001b[0m\u001b[1;39;49m]\u001b[0m\u001b[39;49m A new release of pip is available: \u001b[0m\u001b[31;49m24.0\u001b[0m\u001b[39;49m -> \u001b[0m\u001b[32;49m25.1.1\u001b[0m\n",
      "\u001b[1m[\u001b[0m\u001b[34;49mnotice\u001b[0m\u001b[1;39;49m]\u001b[0m\u001b[39;49m To update, run: \u001b[0m\u001b[32;49mpip install --upgrade pip\u001b[0m\n",
      "Note: you may need to restart the kernel to use updated packages.\n"
     ]
    }
   ],
   "source": [
    "%pip install pandas numpy faker"
   ]
  },
  {
   "cell_type": "code",
   "execution_count": 2,
   "id": "8448c747",
   "metadata": {},
   "outputs": [],
   "source": [
    "import pandas as pd\n",
    "import numpy as np\n",
    "from faker import Faker\n",
    "import os\n",
    "from datetime import datetime\n",
    "\n",
    "fake = Faker()\n",
    "os.makedirs(\"raw/CUST_MSTR\", exist_ok=True)\n",
    "os.makedirs(\"raw/master_child_export\", exist_ok=True)\n",
    "os.makedirs(\"raw/H_ECOM_ORDER\", exist_ok=True)\n",
    "\n",
    "# ---------- Generate CUST_MSTR files ----------\n",
    "for date_str in [\"20191112\", \"20191113\"]:\n",
    "    cust_data = {\n",
    "        \"customer_id\": range(1000, 1100),\n",
    "        \"first_name\": [fake.first_name() for _ in range(100)],\n",
    "        \"last_name\": [fake.last_name() for _ in range(100)],\n",
    "        \"email\": [fake.email() for _ in range(100)],\n",
    "        \"phone\": [fake.phone_number() for _ in range(100)],\n",
    "        \"city\": [fake.city() for _ in range(100)]\n",
    "    }\n",
    "    df = pd.DataFrame(cust_data)\n",
    "    df.to_csv(f\"raw/CUST_MSTR/CUST_MSTR_{date_str}.csv\", index=False)\n",
    "\n",
    "# ---------- Generate master_child_export files ----------\n",
    "for date_str in [\"20191112\", \"20191113\"]:\n",
    "    master_child_data = {\n",
    "        \"product_id\": range(200, 300),\n",
    "        \"product_name\": [fake.word().capitalize() for _ in range(100)],\n",
    "        \"category_id\": np.random.randint(1, 10, 100),\n",
    "        \"category_name\": [fake.word().capitalize() for _ in range(100)],\n",
    "        \"price\": np.random.uniform(10, 500, 100).round(2)\n",
    "    }\n",
    "    df = pd.DataFrame(master_child_data)\n",
    "    df.to_csv(f\"raw/master_child_export/master_child_export-{date_str}.csv\", index=False)\n",
    "\n",
    "# ---------- Generate H_ECOM_ORDER file ----------\n",
    "order_data = {\n",
    "    \"order_id\": range(5000, 5100),\n",
    "    \"customer_id\": np.random.randint(1000, 1100, 100),\n",
    "    \"product_id\": np.random.randint(200, 300, 100),\n",
    "    \"order_date\": [fake.date_between(start_date='-3y', end_date='today') for _ in range(100)],\n",
    "    \"amount\": np.random.uniform(100, 1000, 100).round(2)\n",
    "}\n",
    "df = pd.DataFrame(order_data)\n",
    "df.to_csv(\"raw/H_ECOM_ORDER/H_ECOM_ORDER.csv\", index=False)\n"
   ]
  }
 ],
 "metadata": {
  "kernelspec": {
   "display_name": "3.12.3",
   "language": "python",
   "name": "python3"
  },
  "language_info": {
   "codemirror_mode": {
    "name": "ipython",
    "version": 3
   },
   "file_extension": ".py",
   "mimetype": "text/x-python",
   "name": "python",
   "nbconvert_exporter": "python",
   "pygments_lexer": "ipython3",
   "version": "3.12.3"
  }
 },
 "nbformat": 4,
 "nbformat_minor": 5
}
